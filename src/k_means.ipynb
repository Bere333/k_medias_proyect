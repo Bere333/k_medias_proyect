{
    "cells": [
        {
            "cell_type": "markdown",
            "metadata": {},
            "source": [
                "# Clustering Casas"
            ]
        },
        {
            "cell_type": "code",
            "execution_count": 4,
            "metadata": {},
            "outputs": [],
            "source": [
                "# Importar Dataframe\n",
                "import pandas as pd\n",
                "\n",
                "df = pd.read_csv(\"https://raw.githubusercontent.com/4GeeksAcademy/k-means-project-tutorial/main/housing.csv\")"
            ]
        },
        {
            "cell_type": "code",
            "execution_count": 5,
            "metadata": {},
            "outputs": [
                {
                    "data": {
                        "text/html": [
                            "<div>\n",
                            "<style scoped>\n",
                            "    .dataframe tbody tr th:only-of-type {\n",
                            "        vertical-align: middle;\n",
                            "    }\n",
                            "\n",
                            "    .dataframe tbody tr th {\n",
                            "        vertical-align: top;\n",
                            "    }\n",
                            "\n",
                            "    .dataframe thead th {\n",
                            "        text-align: right;\n",
                            "    }\n",
                            "</style>\n",
                            "<table border=\"1\" class=\"dataframe\">\n",
                            "  <thead>\n",
                            "    <tr style=\"text-align: right;\">\n",
                            "      <th></th>\n",
                            "      <th>MedInc</th>\n",
                            "      <th>HouseAge</th>\n",
                            "      <th>AveRooms</th>\n",
                            "      <th>AveBedrms</th>\n",
                            "      <th>Population</th>\n",
                            "      <th>AveOccup</th>\n",
                            "      <th>Latitude</th>\n",
                            "      <th>Longitude</th>\n",
                            "      <th>MedHouseVal</th>\n",
                            "    </tr>\n",
                            "  </thead>\n",
                            "  <tbody>\n",
                            "    <tr>\n",
                            "      <th>0</th>\n",
                            "      <td>8.3252</td>\n",
                            "      <td>41.0</td>\n",
                            "      <td>6.984127</td>\n",
                            "      <td>1.023810</td>\n",
                            "      <td>322.0</td>\n",
                            "      <td>2.555556</td>\n",
                            "      <td>37.88</td>\n",
                            "      <td>-122.23</td>\n",
                            "      <td>4.526</td>\n",
                            "    </tr>\n",
                            "    <tr>\n",
                            "      <th>1</th>\n",
                            "      <td>8.3014</td>\n",
                            "      <td>21.0</td>\n",
                            "      <td>6.238137</td>\n",
                            "      <td>0.971880</td>\n",
                            "      <td>2401.0</td>\n",
                            "      <td>2.109842</td>\n",
                            "      <td>37.86</td>\n",
                            "      <td>-122.22</td>\n",
                            "      <td>3.585</td>\n",
                            "    </tr>\n",
                            "    <tr>\n",
                            "      <th>2</th>\n",
                            "      <td>7.2574</td>\n",
                            "      <td>52.0</td>\n",
                            "      <td>8.288136</td>\n",
                            "      <td>1.073446</td>\n",
                            "      <td>496.0</td>\n",
                            "      <td>2.802260</td>\n",
                            "      <td>37.85</td>\n",
                            "      <td>-122.24</td>\n",
                            "      <td>3.521</td>\n",
                            "    </tr>\n",
                            "    <tr>\n",
                            "      <th>3</th>\n",
                            "      <td>5.6431</td>\n",
                            "      <td>52.0</td>\n",
                            "      <td>5.817352</td>\n",
                            "      <td>1.073059</td>\n",
                            "      <td>558.0</td>\n",
                            "      <td>2.547945</td>\n",
                            "      <td>37.85</td>\n",
                            "      <td>-122.25</td>\n",
                            "      <td>3.413</td>\n",
                            "    </tr>\n",
                            "    <tr>\n",
                            "      <th>4</th>\n",
                            "      <td>3.8462</td>\n",
                            "      <td>52.0</td>\n",
                            "      <td>6.281853</td>\n",
                            "      <td>1.081081</td>\n",
                            "      <td>565.0</td>\n",
                            "      <td>2.181467</td>\n",
                            "      <td>37.85</td>\n",
                            "      <td>-122.25</td>\n",
                            "      <td>3.422</td>\n",
                            "    </tr>\n",
                            "  </tbody>\n",
                            "</table>\n",
                            "</div>"
                        ],
                        "text/plain": [
                            "   MedInc  HouseAge  AveRooms  AveBedrms  Population  AveOccup  Latitude  \\\n",
                            "0  8.3252      41.0  6.984127   1.023810       322.0  2.555556     37.88   \n",
                            "1  8.3014      21.0  6.238137   0.971880      2401.0  2.109842     37.86   \n",
                            "2  7.2574      52.0  8.288136   1.073446       496.0  2.802260     37.85   \n",
                            "3  5.6431      52.0  5.817352   1.073059       558.0  2.547945     37.85   \n",
                            "4  3.8462      52.0  6.281853   1.081081       565.0  2.181467     37.85   \n",
                            "\n",
                            "   Longitude  MedHouseVal  \n",
                            "0    -122.23        4.526  \n",
                            "1    -122.22        3.585  \n",
                            "2    -122.24        3.521  \n",
                            "3    -122.25        3.413  \n",
                            "4    -122.25        3.422  "
                        ]
                    },
                    "execution_count": 5,
                    "metadata": {},
                    "output_type": "execute_result"
                }
            ],
            "source": [
                "df.head()"
            ]
        },
        {
            "cell_type": "code",
            "execution_count": 6,
            "metadata": {},
            "outputs": [
                {
                    "name": "stdout",
                    "output_type": "stream",
                    "text": [
                        "<class 'pandas.core.frame.DataFrame'>\n",
                        "RangeIndex: 20640 entries, 0 to 20639\n",
                        "Data columns (total 9 columns):\n",
                        " #   Column       Non-Null Count  Dtype  \n",
                        "---  ------       --------------  -----  \n",
                        " 0   MedInc       20640 non-null  float64\n",
                        " 1   HouseAge     20640 non-null  float64\n",
                        " 2   AveRooms     20640 non-null  float64\n",
                        " 3   AveBedrms    20640 non-null  float64\n",
                        " 4   Population   20640 non-null  float64\n",
                        " 5   AveOccup     20640 non-null  float64\n",
                        " 6   Latitude     20640 non-null  float64\n",
                        " 7   Longitude    20640 non-null  float64\n",
                        " 8   MedHouseVal  20640 non-null  float64\n",
                        "dtypes: float64(9)\n",
                        "memory usage: 1.4 MB\n"
                    ]
                }
            ],
            "source": [
                "df.info()"
            ]
        },
        {
            "cell_type": "code",
            "execution_count": 8,
            "metadata": {},
            "outputs": [
                {
                    "data": {
                        "text/html": [
                            "<div>\n",
                            "<style scoped>\n",
                            "    .dataframe tbody tr th:only-of-type {\n",
                            "        vertical-align: middle;\n",
                            "    }\n",
                            "\n",
                            "    .dataframe tbody tr th {\n",
                            "        vertical-align: top;\n",
                            "    }\n",
                            "\n",
                            "    .dataframe thead th {\n",
                            "        text-align: right;\n",
                            "    }\n",
                            "</style>\n",
                            "<table border=\"1\" class=\"dataframe\">\n",
                            "  <thead>\n",
                            "    <tr style=\"text-align: right;\">\n",
                            "      <th></th>\n",
                            "      <th>Latitude</th>\n",
                            "      <th>Longitude</th>\n",
                            "      <th>MedInc</th>\n",
                            "    </tr>\n",
                            "  </thead>\n",
                            "  <tbody>\n",
                            "    <tr>\n",
                            "      <th>0</th>\n",
                            "      <td>37.88</td>\n",
                            "      <td>-122.23</td>\n",
                            "      <td>8.3252</td>\n",
                            "    </tr>\n",
                            "    <tr>\n",
                            "      <th>1</th>\n",
                            "      <td>37.86</td>\n",
                            "      <td>-122.22</td>\n",
                            "      <td>8.3014</td>\n",
                            "    </tr>\n",
                            "    <tr>\n",
                            "      <th>2</th>\n",
                            "      <td>37.85</td>\n",
                            "      <td>-122.24</td>\n",
                            "      <td>7.2574</td>\n",
                            "    </tr>\n",
                            "    <tr>\n",
                            "      <th>3</th>\n",
                            "      <td>37.85</td>\n",
                            "      <td>-122.25</td>\n",
                            "      <td>5.6431</td>\n",
                            "    </tr>\n",
                            "    <tr>\n",
                            "      <th>4</th>\n",
                            "      <td>37.85</td>\n",
                            "      <td>-122.25</td>\n",
                            "      <td>3.8462</td>\n",
                            "    </tr>\n",
                            "  </tbody>\n",
                            "</table>\n",
                            "</div>"
                        ],
                        "text/plain": [
                            "   Latitude  Longitude  MedInc\n",
                            "0     37.88    -122.23  8.3252\n",
                            "1     37.86    -122.22  8.3014\n",
                            "2     37.85    -122.24  7.2574\n",
                            "3     37.85    -122.25  5.6431\n",
                            "4     37.85    -122.25  3.8462"
                        ]
                    },
                    "execution_count": 8,
                    "metadata": {},
                    "output_type": "execute_result"
                }
            ],
            "source": [
                "# Filtrar Dataframe con las columnas requeridas o especificadas\n",
                "X = df[[\"Latitude\", \"Longitude\", \"MedInc\"]]\n",
                "X.head()"
            ]
        },
        {
            "cell_type": "code",
            "execution_count": 9,
            "metadata": {},
            "outputs": [
                {
                    "data": {
                        "text/html": [
                            "<div>\n",
                            "<style scoped>\n",
                            "    .dataframe tbody tr th:only-of-type {\n",
                            "        vertical-align: middle;\n",
                            "    }\n",
                            "\n",
                            "    .dataframe tbody tr th {\n",
                            "        vertical-align: top;\n",
                            "    }\n",
                            "\n",
                            "    .dataframe thead th {\n",
                            "        text-align: right;\n",
                            "    }\n",
                            "</style>\n",
                            "<table border=\"1\" class=\"dataframe\">\n",
                            "  <thead>\n",
                            "    <tr style=\"text-align: right;\">\n",
                            "      <th></th>\n",
                            "      <th>Latitude</th>\n",
                            "      <th>Longitude</th>\n",
                            "      <th>MedInc</th>\n",
                            "    </tr>\n",
                            "  </thead>\n",
                            "  <tbody>\n",
                            "    <tr>\n",
                            "      <th>14196</th>\n",
                            "      <td>32.71</td>\n",
                            "      <td>-117.03</td>\n",
                            "      <td>3.2596</td>\n",
                            "    </tr>\n",
                            "    <tr>\n",
                            "      <th>8267</th>\n",
                            "      <td>33.77</td>\n",
                            "      <td>-118.16</td>\n",
                            "      <td>3.8125</td>\n",
                            "    </tr>\n",
                            "    <tr>\n",
                            "      <th>17445</th>\n",
                            "      <td>34.66</td>\n",
                            "      <td>-120.48</td>\n",
                            "      <td>4.1563</td>\n",
                            "    </tr>\n",
                            "    <tr>\n",
                            "      <th>14265</th>\n",
                            "      <td>32.69</td>\n",
                            "      <td>-117.11</td>\n",
                            "      <td>1.9425</td>\n",
                            "    </tr>\n",
                            "    <tr>\n",
                            "      <th>2271</th>\n",
                            "      <td>36.78</td>\n",
                            "      <td>-119.80</td>\n",
                            "      <td>3.5542</td>\n",
                            "    </tr>\n",
                            "  </tbody>\n",
                            "</table>\n",
                            "</div>"
                        ],
                        "text/plain": [
                            "       Latitude  Longitude  MedInc\n",
                            "14196     32.71    -117.03  3.2596\n",
                            "8267      33.77    -118.16  3.8125\n",
                            "17445     34.66    -120.48  4.1563\n",
                            "14265     32.69    -117.11  1.9425\n",
                            "2271      36.78    -119.80  3.5542"
                        ]
                    },
                    "execution_count": 9,
                    "metadata": {},
                    "output_type": "execute_result"
                }
            ],
            "source": [
                "# Dividir el dataset en train y test\n",
                "from sklearn.model_selection import train_test_split\n",
                "\n",
                "X_train, X_test = train_test_split(X, train_size=0.8, random_state=42)\n",
                "X_train.head()"
            ]
        },
        {
            "cell_type": "markdown",
            "metadata": {},
            "source": [
                "## Validación de número de clusters optimos"
            ]
        },
        {
            "cell_type": "code",
            "execution_count": 10,
            "metadata": {},
            "outputs": [
                {
                    "data": {
                        "image/png": "[encoded data removed]",
                        "text/plain": [
                            "<Figure size 640x480 with 1 Axes>"
                        ]
                    },
                    "metadata": {},
                    "output_type": "display_data"
                }
            ],
            "source": [
                "### Busqueda de El K\n",
                "import matplotlib.pyplot as plt\n",
                "from sklearn.cluster import KMeans\n",
                "\n",
                "KK = []\n",
                "for k in range(1, 15):\n",
                "    kmeans = KMeans(n_clusters=k, init='k-means++', max_iter=300, n_init=10, random_state=42)\n",
                "    kmeans.fit(X)\n",
                "    KK.append(kmeans.inertia_)\n",
                "\n",
                "# Gráfico del codo\n",
                "plt.plot(range(1, 15), KK, marker='o')\n",
                "plt.title('Método del Codo')\n",
                "plt.xlabel('Número de grupos')\n",
                "plt.ylabel('KK')\n",
                "plt.show()"
            ]
        },
        {
            "cell_type": "code",
            "execution_count": 12,
            "metadata": {},
            "outputs": [
                {
                    "data": {
                        "image/png": "[encoded data removed]",
                        "text/plain": [
                            "<Figure size 640x480 with 1 Axes>"
                        ]
                    },
                    "metadata": {},
                    "output_type": "display_data"
                }
            ],
            "source": [
                "from sklearn.metrics import silhouette_score\n",
                "from sklearn import metrics\n",
                "\n",
                "import matplotlib.pyplot as plt\n",
                "\n",
                "silhouette_scores = []\n",
                "for k in range(2, 15):\n",
                "    kmeans = KMeans(n_clusters=k, init='k-means++', max_iter=300, n_init=10, random_state=42)\n",
                "    kmeans.fit(X_train)\n",
                "\n",
                "    predict = kmeans.predict(X_train)\n",
                "    silhouette_avg = metrics.silhouette_score(X_train, predict)\n",
                "    silhouette_scores.append(silhouette_avg)\n",
                "\n",
                "# Gráfico del codo\n",
                "plt.plot(range(2, 15), silhouette_scores, marker='o')\n",
                "plt.title('Método de la silueta')\n",
                "plt.xlabel('Número de grupos')\n",
                "plt.ylabel('KK')\n",
                "plt.show()"
            ]
        }
    ],
    "metadata": {
        "kernelspec": {
            "display_name": "Python 3",
            "language": "python",
            "name": "python3"
        },
        "language_info": {
            "codemirror_mode": {
                "name": "ipython",
                "version": 3
            },
            "file_extension": ".py",
            "mimetype": "text/x-python",
            "name": "python",
            "nbconvert_exporter": "python",
            "pygments_lexer": "ipython3",
            "version": "3.11.4"
        },
        "orig_nbformat": 4
    },
    "nbformat": 4,
    "nbformat_minor": 2
}
